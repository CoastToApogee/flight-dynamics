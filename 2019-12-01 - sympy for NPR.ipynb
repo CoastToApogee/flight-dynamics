{
  "cells": [
    {
      "metadata": {
        "trusted": false
      },
      "cell_type": "code",
      "source": "import sympy as s\ns.init_printing()",
      "execution_count": 1,
      "outputs": []
    },
    {
      "metadata": {
        "trusted": false
      },
      "cell_type": "code",
      "source": "sma, ecc, inc, ran, aop, tra = s.symbols('a e i Omega omega f')",
      "execution_count": 12,
      "outputs": []
    },
    {
      "metadata": {},
      "cell_type": "markdown",
      "source": "## Nodal Frame\n\nDefine the nodal vector simply by the definition of the right ascension of the ascending node.\n\n$$\\hat{n} = \\left[ \\begin{array}{c} \\cos\\Omega \\\\ \\sin\\Omega \\\\ 0 \\end{array} \\right]$$\n\nThe orbit normal..\n\n$$\\hat{h} = \\left[ \\begin{array}{c} \\sin\\Omega \\sin i \\\\ -\\cos\\Omega \\sin i \\\\ \\cos i \\end{array} \\right]$$\n\nThe unit vector that complete the nodal frame is\n\n$$\\hat{m} = \\hat{h} \\times \\hat{n}$$"
    },
    {
      "metadata": {
        "trusted": false
      },
      "cell_type": "code",
      "source": "n_hat = s.Matrix([\n    [s.cos(ran)],\n    [s.sin(ran)],\n    [0]\n])\n\nh_hat = s.Matrix([\n    [ s.sin(ran) * s.sin(inc)],\n    [-s.cos(ran) * s.sin(inc)],\n    [s.cos(inc)]\n])\n\nm_hat = s.simplify(h_hat.cross(n_hat))",
      "execution_count": 13,
      "outputs": []
    },
    {
      "metadata": {
        "trusted": false
      },
      "cell_type": "code",
      "source": "m_hat",
      "execution_count": 15,
      "outputs": [
        {
          "data": {
            "text/latex": "$$\\left[\\begin{matrix}- \\sin{\\left (\\Omega \\right )} \\cos{\\left (i \\right )}\\\\\\cos{\\left (\\Omega \\right )} \\cos{\\left (i \\right )}\\\\\\sin{\\left (i \\right )}\\end{matrix}\\right]$$",
            "text/plain": "⎡-sin(Ω)⋅cos(i)⎤\n⎢              ⎥\n⎢cos(Ω)⋅cos(i) ⎥\n⎢              ⎥\n⎣    sin(i)    ⎦"
          },
          "execution_count": 15,
          "metadata": {},
          "output_type": "execute_result"
        }
      ]
    },
    {
      "metadata": {},
      "cell_type": "markdown",
      "source": "## Perifocal Frame\nThe eccentricity vector is $\\frac{\\vec{e}}{||\\vec{e}||}$. Unitize that and express in nodal frame unit vectors.\n$$\\hat{P} = \\cos(\\omega) \\hat{n} + \\sin(\\omega) \\hat{m}$$\n\nThe orbit normal vector is the same as in the nodal frame.\n$$\\hat{W} = \\hat{h}$$\n\nComplete the set by crossing P and W.\n$$\\hat{Q} = \\hat{W} \\times \\hat{P}$$"
    },
    {
      "metadata": {
        "trusted": false
      },
      "cell_type": "code",
      "source": "p_hat = s.simplify(s.cos(aop)*n_hat + s.sin(aop)*m_hat)\np_hat",
      "execution_count": 16,
      "outputs": [
        {
          "data": {
            "text/latex": "$$\\left[\\begin{matrix}- \\sin{\\left (\\Omega \\right )} \\sin{\\left (\\omega \\right )} \\cos{\\left (i \\right )} + \\cos{\\left (\\Omega \\right )} \\cos{\\left (\\omega \\right )}\\\\\\sin{\\left (\\Omega \\right )} \\cos{\\left (\\omega \\right )} + \\sin{\\left (\\omega \\right )} \\cos{\\left (\\Omega \\right )} \\cos{\\left (i \\right )}\\\\\\sin{\\left (i \\right )} \\sin{\\left (\\omega \\right )}\\end{matrix}\\right]$$",
            "text/plain": "⎡-sin(Ω)⋅sin(ω)⋅cos(i) + cos(Ω)⋅cos(ω)⎤\n⎢                                     ⎥\n⎢sin(Ω)⋅cos(ω) + sin(ω)⋅cos(Ω)⋅cos(i) ⎥\n⎢                                     ⎥\n⎣            sin(i)⋅sin(ω)            ⎦"
          },
          "execution_count": 16,
          "metadata": {},
          "output_type": "execute_result"
        }
      ]
    },
    {
      "metadata": {
        "trusted": false
      },
      "cell_type": "code",
      "source": "w_hat = h_hat\nq_hat = s.simplify(w_hat.cross(p_hat))\nq_hat",
      "execution_count": 19,
      "outputs": [
        {
          "data": {
            "text/latex": "$$\\left[\\begin{matrix}- \\sin{\\left (\\Omega \\right )} \\cos{\\left (i \\right )} \\cos{\\left (\\omega \\right )} - \\sin{\\left (\\omega \\right )} \\cos{\\left (\\Omega \\right )}\\\\- \\sin{\\left (\\Omega \\right )} \\sin{\\left (\\omega \\right )} + \\cos{\\left (\\Omega \\right )} \\cos{\\left (i \\right )} \\cos{\\left (\\omega \\right )}\\\\\\sin{\\left (i \\right )} \\cos{\\left (\\omega \\right )}\\end{matrix}\\right]$$",
            "text/plain": "⎡-sin(Ω)⋅cos(i)⋅cos(ω) - sin(ω)⋅cos(Ω)⎤\n⎢                                     ⎥\n⎢-sin(Ω)⋅sin(ω) + cos(Ω)⋅cos(i)⋅cos(ω)⎥\n⎢                                     ⎥\n⎣            sin(i)⋅cos(ω)            ⎦"
          },
          "execution_count": 19,
          "metadata": {},
          "output_type": "execute_result"
        }
      ]
    },
    {
      "metadata": {},
      "cell_type": "markdown",
      "source": "## RIC Frame\nThe radial vector (the r-bar) is the vector between the spacecraft and the center of the body. Defined in the perifocal frame:\n$$\\hat{R} = \\cos(f)\\hat{P} + \\sin(f)\\hat{Q}$$\n\nThe cross-track vector (the h-bar) is orbit normal so stays the same.\n$$\\hat{C} = \\frac{\\vec{r} \\times \\vec{v}}{|\\vec{r} \\times \\vec{v}|} = \\hat{h} = \\hat{W}$$\n\nAnd we get in-track (the v-bar) by crossing $\\hat{C}$ and $\\hat{R}$.\n$$\\hat{I} = \\hat{C} \\times \\hat{R}$$"
    },
    {
      "metadata": {
        "trusted": false
      },
      "cell_type": "code",
      "source": "r_hat = s.simplify( s.cos(tra) * p_hat + s.sin(tra) * q_hat )\nr_hat",
      "execution_count": 21,
      "outputs": [
        {
          "data": {
            "text/latex": "$$\\left[\\begin{matrix}- \\sin{\\left (\\Omega \\right )} \\sin{\\left (f + \\omega \\right )} \\cos{\\left (i \\right )} + \\cos{\\left (\\Omega \\right )} \\cos{\\left (f + \\omega \\right )}\\\\\\sin{\\left (\\Omega \\right )} \\cos{\\left (f + \\omega \\right )} + \\sin{\\left (f + \\omega \\right )} \\cos{\\left (\\Omega \\right )} \\cos{\\left (i \\right )}\\\\\\sin{\\left (i \\right )} \\sin{\\left (f + \\omega \\right )}\\end{matrix}\\right]$$",
            "text/plain": "⎡-sin(Ω)⋅sin(f + ω)⋅cos(i) + cos(Ω)⋅cos(f + ω)⎤\n⎢                                             ⎥\n⎢sin(Ω)⋅cos(f + ω) + sin(f + ω)⋅cos(Ω)⋅cos(i) ⎥\n⎢                                             ⎥\n⎣              sin(i)⋅sin(f + ω)              ⎦"
          },
          "execution_count": 21,
          "metadata": {},
          "output_type": "execute_result"
        }
      ]
    },
    {
      "metadata": {
        "trusted": false
      },
      "cell_type": "code",
      "source": "c_hat = w_hat\nc_hat",
      "execution_count": 22,
      "outputs": [
        {
          "data": {
            "text/latex": "$$\\left[\\begin{matrix}\\sin{\\left (\\Omega \\right )} \\sin{\\left (i \\right )}\\\\- \\sin{\\left (i \\right )} \\cos{\\left (\\Omega \\right )}\\\\\\cos{\\left (i \\right )}\\end{matrix}\\right]$$",
            "text/plain": "⎡sin(Ω)⋅sin(i) ⎤\n⎢              ⎥\n⎢-sin(i)⋅cos(Ω)⎥\n⎢              ⎥\n⎣    cos(i)    ⎦"
          },
          "execution_count": 22,
          "metadata": {},
          "output_type": "execute_result"
        }
      ]
    },
    {
      "metadata": {
        "trusted": false
      },
      "cell_type": "code",
      "source": "i_hat = s.simplify( c_hat.cross(r_hat) )\ni_hat",
      "execution_count": 23,
      "outputs": [
        {
          "data": {
            "text/latex": "$$\\left[\\begin{matrix}- \\sin{\\left (\\Omega \\right )} \\cos{\\left (i \\right )} \\cos{\\left (f + \\omega \\right )} - \\sin{\\left (f + \\omega \\right )} \\cos{\\left (\\Omega \\right )}\\\\- \\sin{\\left (\\Omega \\right )} \\sin{\\left (f + \\omega \\right )} + \\cos{\\left (\\Omega \\right )} \\cos{\\left (i \\right )} \\cos{\\left (f + \\omega \\right )}\\\\\\sin{\\left (i \\right )} \\cos{\\left (f + \\omega \\right )}\\end{matrix}\\right]$$",
            "text/plain": "⎡-sin(Ω)⋅cos(i)⋅cos(f + ω) - sin(f + ω)⋅cos(Ω)⎤\n⎢                                             ⎥\n⎢-sin(Ω)⋅sin(f + ω) + cos(Ω)⋅cos(i)⋅cos(f + ω)⎥\n⎢                                             ⎥\n⎣              sin(i)⋅cos(f + ω)              ⎦"
          },
          "execution_count": 23,
          "metadata": {},
          "output_type": "execute_result"
        }
      ]
    },
    {
      "metadata": {
        "trusted": false
      },
      "cell_type": "code",
      "source": "",
      "execution_count": null,
      "outputs": []
    }
  ],
  "metadata": {
    "kernelspec": {
      "name": "python3",
      "display_name": "Python 3",
      "language": "python"
    },
    "language_info": {
      "mimetype": "text/x-python",
      "nbconvert_exporter": "python",
      "name": "python",
      "pygments_lexer": "ipython3",
      "version": "3.5.4",
      "file_extension": ".py",
      "codemirror_mode": {
        "version": 3,
        "name": "ipython"
      }
    }
  },
  "nbformat": 4,
  "nbformat_minor": 2
}